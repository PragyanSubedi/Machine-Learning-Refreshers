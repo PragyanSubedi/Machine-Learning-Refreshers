{
 "cells": [
  {
   "cell_type": "markdown",
   "id": "7bdb1e1c-0365-4e90-a131-da555d27366d",
   "metadata": {},
   "source": [
    "# Lasso (L1), Ridge (L2) and ElasticNet Regression"
   ]
  },
  {
   "cell_type": "code",
   "execution_count": 1,
   "id": "b0bce0fb-f88f-4565-a86c-b680156d0237",
   "metadata": {},
   "outputs": [],
   "source": [
    "# Importing the libraries\n",
    "import numpy as np\n",
    "import matplotlib.pyplot as plt\n",
    "import pandas as pd\n",
    "\n",
    "# Importing the dataset\n",
    "dataset = pd.read_csv('data/Position_Salaries.csv')\n",
    "X = dataset.iloc[:, 1:2].values\n",
    "y = dataset.iloc[:, -1].values"
   ]
  },
  {
   "cell_type": "code",
   "execution_count": 2,
   "id": "4ded72bf-f4fb-41f4-b147-f3cd66f5f406",
   "metadata": {},
   "outputs": [
    {
     "data": {
      "text/plain": [
       "array([330378.78787879])"
      ]
     },
     "execution_count": 2,
     "metadata": {},
     "output_type": "execute_result"
    }
   ],
   "source": [
    "# Fitting Linear Regression to the dataset\n",
    "from sklearn.linear_model import LinearRegression\n",
    "lin_reg = LinearRegression()\n",
    "lin_reg.fit(X, y)\n",
    "lin_reg.predict([[6.5]])"
   ]
  },
  {
   "cell_type": "markdown",
   "id": "4b481ceb-caa2-450e-9bee-a19f8f9ce468",
   "metadata": {},
   "source": [
    "The big difference between Ridge and Lasso Regression is that Ridge Regression can only shrink the slope asymptotically close to 0 while Lasso Regression can shrink the slope all the way to 0.\n",
    "\n",
    "Also, Lasso Regression excludes useless variables from equations and is better at reducing the Variance in models that contain a lot of useless variables. Ridge regression tends to do better when most variables are useful."
   ]
  },
  {
   "cell_type": "code",
   "execution_count": 3,
   "id": "99dc8352-a7f4-4321-acaa-1ef98e2ad604",
   "metadata": {},
   "outputs": [
    {
     "data": {
      "text/plain": [
       "array([330378.54545455])"
      ]
     },
     "execution_count": 3,
     "metadata": {},
     "output_type": "execute_result"
    }
   ],
   "source": [
    "from sklearn.linear_model import Lasso\n",
    "lasso_reg = Lasso(alpha=2)\n",
    "lasso_reg.fit(X, y)\n",
    "lasso_reg.predict([[6.5]])"
   ]
  },
  {
   "cell_type": "code",
   "execution_count": 4,
   "id": "5bd1ff5c-1730-4e4f-9cd3-09907e92b346",
   "metadata": {},
   "outputs": [
    {
     "data": {
      "text/plain": [
       "array([328464.49704142])"
      ]
     },
     "execution_count": 4,
     "metadata": {},
     "output_type": "execute_result"
    }
   ],
   "source": [
    "from sklearn.linear_model import Ridge\n",
    "ridge_reg = Ridge(alpha=2)\n",
    "ridge_reg.fit(X, y)\n",
    "ridge_reg.predict([[6.5]])"
   ]
  },
  {
   "cell_type": "markdown",
   "id": "12eee539-aad1-4199-8008-18e0f4f33251",
   "metadata": {},
   "source": [
    "Elastic-Net regression is useful when there are many variables and we do not know the importance of these variables. In this case, we combine both the Lasso and Ridge regression penalty."
   ]
  },
  {
   "cell_type": "code",
   "execution_count": 6,
   "id": "11451e7d-dabf-4b77-b068-82de221c5cc5",
   "metadata": {},
   "outputs": [
    {
     "data": {
      "text/plain": [
       "array([321635.02702703])"
      ]
     },
     "execution_count": 6,
     "metadata": {},
     "output_type": "execute_result"
    }
   ],
   "source": [
    "from sklearn.linear_model import ElasticNet\n",
    "elastic_reg = ElasticNet(alpha=2)\n",
    "elastic_reg.fit(X, y)\n",
    "elastic_reg.predict([[6.5]])"
   ]
  }
 ],
 "metadata": {
  "kernelspec": {
   "display_name": "Python 3",
   "language": "python",
   "name": "python3"
  },
  "language_info": {
   "codemirror_mode": {
    "name": "ipython",
    "version": 3
   },
   "file_extension": ".py",
   "mimetype": "text/x-python",
   "name": "python",
   "nbconvert_exporter": "python",
   "pygments_lexer": "ipython3",
   "version": "3.9.2"
  }
 },
 "nbformat": 4,
 "nbformat_minor": 5
}
